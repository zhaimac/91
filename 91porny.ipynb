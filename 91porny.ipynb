{
 "cells": [
  {
   "cell_type": "code",
   "execution_count": null,
   "id": "f39ac635-434b-44a8-a815-4aa955679de8",
   "metadata": {},
   "outputs": [],
   "source": [
    "# pip install --upgrade pip\n",
    "# pip install selenium ## make sure also install dirver for your OS\n",
    "# pip install requests\n",
    "# pip install beautifulsoup4\n",
    "\n",
    "### install ffmpeg"
   ]
  },
  {
   "cell_type": "code",
   "execution_count": null,
   "id": "a8fea37d-106c-4629-8ca4-1a6f8bb729e4",
   "metadata": {},
   "outputs": [],
   "source": [
    "import os, re\n",
    "from bs4 import BeautifulSoup\n",
    "from selenium import webdriver\n",
    "from selenium.webdriver.chrome.options import Options  "
   ]
  },
  {
   "cell_type": "code",
   "execution_count": null,
   "id": "3a98a9e6-6908-4e93-aebe-c4e860181814",
   "metadata": {},
   "outputs": [],
   "source": [
    "# Define selenium Chrome Driver\n",
    "chrome_options = Options()  \n",
    "chrome_options.add_argument(\"--headless\")  \n",
    "chrome_options.add_argument('--no-sandbox')\n",
    "chrome_options.add_argument('--disable-dev-shm-usage')\n",
    "chrome_options.add_argument(\"--lang=zh\")\n",
    "driver = webdriver.Chrome(options=chrome_options)"
   ]
  },
  {
   "cell_type": "code",
   "execution_count": null,
   "id": "c34ea24e-060f-4c85-863c-4261070480e6",
   "metadata": {},
   "outputs": [],
   "source": [
    "def get_91_vidoe_lst_from_start_page(start_page):\n",
    "    def get_href(video_div):\n",
    "        return 'https://91porny.com/' + video_div.find_all(\"a\")[1].get('href')\n",
    "\n",
    "    driver.get(start_page)\n",
    "    html = driver.page_source\n",
    "    soup = BeautifulSoup(html)\n",
    "    video_divs = soup.find_all(\"div\", {\"class\": \"colVideoList\"})\n",
    "    return [get_href(video_div) for video_div in video_divs]\n"
   ]
  },
  {
   "cell_type": "code",
   "execution_count": null,
   "id": "7a3d1f20-cfb5-4e0a-9a50-d454638c0627",
   "metadata": {},
   "outputs": [],
   "source": [
    "def get_clean_title(soup):\n",
    "    title = soup.title.string\n",
    "    title = title.replace('高清', '')\n",
    "    title = title.replace('原创', '')\n",
    "    title = title.replace('91视频', '')\n",
    "    title = title.replace('91视频', '')\n",
    "    title = title.replace('91自拍', '')\n",
    "    title = title.replace('国产自拍', '')\n",
    "    title = title.replace('[原创]', '')\n",
    "    cleanString = re.sub('\\W+','', title)\n",
    "    return cleanString\n",
    "\n",
    "def get_m3u8_of_page(soup):\n",
    "    m3u8_url = [x.get(\"data-src\")  for x in soup.findAll(\"video\")][0]\n",
    "    return m3u8_url\n",
    "\n",
    "def extract91page(video_page_91):\n",
    "    driver.get(video_page_91)\n",
    "    html = driver.page_source\n",
    "    soup = BeautifulSoup(html)\n",
    "    title= get_clean_title(soup)\n",
    "    m3u8_url = get_m3u8_of_page(soup)\n",
    "    return title, m3u8_url"
   ]
  },
  {
   "cell_type": "code",
   "execution_count": null,
   "id": "be9129ab-e05f-48cf-bae3-7cd1d28c952d",
   "metadata": {},
   "outputs": [],
   "source": [
    "## Sinagle video download\n",
    "# title, m3u8_url = extract91page('https://91porny.com/video/view/f1d323f1b2d0b955e773') \n",
    "# os.system(f\"ffmpeg -i '{m3u8_url}' -acodec copy -vcodec copy {title}.mp4\")"
   ]
  },
  {
   "cell_type": "code",
   "execution_count": null,
   "id": "39b0beea-5cc8-446e-9aa5-be6ff7045c07",
   "metadata": {},
   "outputs": [],
   "source": [
    "## get recent-favorite 91 video list\n",
    "start_page='https://91porny.com/video/category/recent-favorite'\n",
    "lst = get_91_vidoe_lst_from_start_page(start_page)\n",
    "print(lst)\n",
    "\n",
    "OUTPUT_FOLDER = \"~/download_91_videos\" # MAKE SURE creat this folder\n",
    "\n",
    "for url in lst:\n",
    "    try:\n",
    "        title, m3u8_url = extract91page(url) \n",
    "        os.system(f\"ffmpeg -i '{m3u8_url}' -acodec copy -vcodec copy {OUTPUT_FOLDER}/{title}.mp4\")\n",
    "    except:\n",
    "        print(\"err\"+url)"
   ]
  },
  {
   "cell_type": "code",
   "execution_count": null,
   "id": "2764b273-c909-4143-ad2e-7ca6e6a12e11",
   "metadata": {},
   "outputs": [],
   "source": []
  }
 ],
 "metadata": {
  "kernelspec": {
   "display_name": "Python 3 (ipykernel)",
   "language": "python",
   "name": "python3"
  },
  "language_info": {
   "codemirror_mode": {
    "name": "ipython",
    "version": 3
   },
   "file_extension": ".py",
   "mimetype": "text/x-python",
   "name": "python",
   "nbconvert_exporter": "python",
   "pygments_lexer": "ipython3",
   "version": "3.12.3"
  }
 },
 "nbformat": 4,
 "nbformat_minor": 5
}
