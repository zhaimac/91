{
 "cells": [
  {
   "cell_type": "code",
   "execution_count": null,
   "id": "f2e3459b-2947-4be9-bf11-56b8464f68be",
   "metadata": {},
   "outputs": [],
   "source": [
    "#pip install pytube"
   ]
  },
  {
   "cell_type": "code",
   "execution_count": null,
   "id": "7a599ada-6b71-4f7c-a6b7-45de5c226ff8",
   "metadata": {},
   "outputs": [],
   "source": [
    "#pip install ffmpeg-python"
   ]
  },
  {
   "cell_type": "code",
   "execution_count": null,
   "id": "3022a67f-c762-4160-9b71-cb2f141369c6",
   "metadata": {},
   "outputs": [],
   "source": [
    "import re,os\n",
    "import ffmpeg\n",
    "import pytube\n",
    "\n",
    "YOUTUBE_STREAM_AUDIO = '140' # modify the value to download a different stream\n",
    "DOWNLOAD_DIR = 'download_music'\n",
    "PLAY_LIST = 'https://www.youtube.com/watch?v=12XZTUcmOhE&list=PLd9l56v6qykWpq73YQ3ictNnthCOEdKxK'\n",
    "\n",
    "playlist = pytube.Playlist(PLAY_LIST)\n",
    "\n",
    "# this fixes the empty playlist.videos list\n",
    "playlist._video_regex = re.compile(r\"\\\"url\\\":\\\"(/watch\\?v=[\\w-]*)\")\n",
    "\n",
    "print(len(playlist.video_urls))\n",
    "for url in playlist.video_urls:\n",
    "    print(url)\n"
   ]
  },
  {
   "cell_type": "code",
   "execution_count": null,
   "id": "68fc8184-5ee4-4243-bd7c-b02b4f61fc46",
   "metadata": {},
   "outputs": [],
   "source": [
    "# physically downloading the audio track\n",
    "for video in playlist.videos:\n",
    "    audioStream = video.streams.get_by_itag(YOUTUBE_STREAM_AUDIO)\n",
    "    mp4_file_name = audioStream.download(output_path=DOWNLOAD_DIR)\n",
    "    print(mp4_file_name)\n",
    "\n",
    "    (\n",
    "        ffmpeg\n",
    "        .input(mp4_file_name)\n",
    "        .output(mp4_file_name[:-4] + \".mp3\")\n",
    "        .run()\n",
    "    )\n",
    "    os.remove(mp4_file_name)\n",
    "    print(x)"
   ]
  },
  {
   "cell_type": "code",
   "execution_count": null,
   "id": "afad21c6-c57c-428c-9a22-4856c3fa2566",
   "metadata": {},
   "outputs": [],
   "source": []
  }
 ],
 "metadata": {
  "kernelspec": {
   "display_name": "Python 3 (ipykernel)",
   "language": "python",
   "name": "python3"
  },
  "language_info": {
   "codemirror_mode": {
    "name": "ipython",
    "version": 3
   },
   "file_extension": ".py",
   "mimetype": "text/x-python",
   "name": "python",
   "nbconvert_exporter": "python",
   "pygments_lexer": "ipython3",
   "version": "3.12.3"
  }
 },
 "nbformat": 4,
 "nbformat_minor": 5
}
