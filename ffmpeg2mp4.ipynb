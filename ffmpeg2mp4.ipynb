{
 "cells": [
  {
   "cell_type": "code",
   "execution_count": null,
   "id": "ee223e2e-f1cf-43b8-9f9f-ab9aaa93cfc3",
   "metadata": {},
   "outputs": [],
   "source": [
    "pip install ffmpeg-python"
   ]
  },
  {
   "cell_type": "code",
   "execution_count": null,
   "id": "e33f340d-cf58-4b6e-9706-5a5e571748a6",
   "metadata": {},
   "outputs": [],
   "source": [
    "import ffmpeg\n",
    "import os"
   ]
  },
  {
   "cell_type": "code",
   "execution_count": null,
   "id": "b06e3e10-f9db-49c8-a697-3ba1b21cb6aa",
   "metadata": {},
   "outputs": [],
   "source": [
    "def convert_to_mp4(mkv_file):\n",
    "    name, ext = os.path.splitext(mkv_file)\n",
    "    out_name = name + \".mp4\"\n",
    "    ffmpeg.input(mkv_file).output(out_name).run()\n",
    "    print(\"Finished converting {}\".format(mkv_file))\n",
    "\n",
    "start_dir='/Users/momo/Desktop/xx'\n",
    "for path, folder, files in os.walk(start_dir):\n",
    "    for file in files:\n",
    "        if file.endswith('.mkv'):\n",
    "            print(\"Found file: %s\" % file)\n",
    "            convert_to_mp4(os.path.join(start_dir, file))\n"
   ]
  }
 ],
 "metadata": {
  "kernelspec": {
   "display_name": "Python 3 (ipykernel)",
   "language": "python",
   "name": "python3"
  },
  "language_info": {
   "codemirror_mode": {
    "name": "ipython",
    "version": 3
   },
   "file_extension": ".py",
   "mimetype": "text/x-python",
   "name": "python",
   "nbconvert_exporter": "python",
   "pygments_lexer": "ipython3",
   "version": "3.12.3"
  }
 },
 "nbformat": 4,
 "nbformat_minor": 5
}
